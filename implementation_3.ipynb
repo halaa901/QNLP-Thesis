{
 "cells": [
  {
   "cell_type": "markdown",
   "metadata": {},
   "source": [
    "## Welcome to version 3: 25.July"
   ]
  },
  {
   "cell_type": "markdown",
   "metadata": {},
   "source": [
    "This version is currently wokring on doin the split train and test!"
   ]
  },
  {
   "cell_type": "markdown",
   "metadata": {},
   "source": [
    "TODO LIST:\n",
    "- Create a trainable linear map for feature extraction\n",
    "- Propose using (sentnce,img) as opposed to (sentence,img,img)\n",
    "\n",
    "Complete:\n",
    "- Negative images downloaded\n",
    "- Check error in accessing images in the UK \n",
    "\n",
    "==\n",
    "\n",
    "- Split the data in train, dev, and test (NOW)\n",
    "- Create labels with the dataframe (NOW)\n",
    "- Remove articles from sentences"
   ]
  },
  {
   "cell_type": "markdown",
   "metadata": {},
   "source": [
    "#### Imports"
   ]
  },
  {
   "cell_type": "code",
   "execution_count": 12,
   "metadata": {},
   "outputs": [
    {
     "name": "stdout",
     "output_type": "stream",
     "text": [
      "All libraries are successfully imported!\n"
     ]
    }
   ],
   "source": [
    "import os\n",
    "import requests\n",
    "import pandas as pd\n",
    "from PIL import Image\n",
    "import io\n",
    "import numpy as np\n",
    "from torch import nn\n",
    "\n",
    "from tensorflow.keras.applications import ResNet50\n",
    "from tensorflow.keras.preprocessing import image\n",
    "from keras.applications.resnet50 import preprocess_input\n",
    "from sklearn.decomposition import PCA\n",
    "\n",
    "from lambeq.backend.grammar import Ty, Box \n",
    "from lambeq import BobcatParser, AtomicType, Sim14Ansatz, RemoveCupsRewriter\n",
    "\n",
    "import matplotlib.pyplot as plt\n",
    "\n",
    "print(\"All libraries are successfully imported!\")"
   ]
  },
  {
   "cell_type": "markdown",
   "metadata": {},
   "source": [
    "#### Dataset and Image pre-processing"
   ]
  },
  {
   "cell_type": "markdown",
   "metadata": {},
   "source": [
    "Dataset extraction"
   ]
  },
  {
   "cell_type": "code",
   "execution_count": 13,
   "metadata": {},
   "outputs": [
    {
     "data": {
      "text/html": [
       "<div>\n",
       "<style scoped>\n",
       "    .dataframe tbody tr th:only-of-type {\n",
       "        vertical-align: middle;\n",
       "    }\n",
       "\n",
       "    .dataframe tbody tr th {\n",
       "        vertical-align: top;\n",
       "    }\n",
       "\n",
       "    .dataframe thead th {\n",
       "        text-align: right;\n",
       "    }\n",
       "</style>\n",
       "<table border=\"1\" class=\"dataframe\">\n",
       "  <thead>\n",
       "    <tr style=\"text-align: right;\">\n",
       "      <th></th>\n",
       "      <th>sentence</th>\n",
       "      <th>image_pos</th>\n",
       "      <th>image_neg</th>\n",
       "    </tr>\n",
       "  </thead>\n",
       "  <tbody>\n",
       "    <tr>\n",
       "      <th>0</th>\n",
       "      <td>man stand behind the wall</td>\n",
       "      <td>https://previews.123rf.com/images/ryanking999/ryanking9991702/ryanking999170200409/72735211-apuesto-hombre-de-pie-con-pared-de-ladrillo-asi%C3%A1tico.jpg</td>\n",
       "      <td>https://previews.123rf.com/images/ryanking999/ryanking9991703/ryanking999170300165/72844322-hombre-sentarse-y-sentirse-deprimido-con-pared-de-ladrillo-asi%C3%A1tico.jpg</td>\n",
       "    </tr>\n",
       "    <tr>\n",
       "      <th>1</th>\n",
       "      <td>The woman is sitting against the wall.</td>\n",
       "      <td>http://www.colourbox.com/preview/5020075-522756-young-woman-sitting-on-the-wooden-floor-against-white-wall.jpg</td>\n",
       "      <td>https://st4.depositphotos.com/1462687/20482/i/1600/depositphotos_204822478-stock-photo-pretty-woman-casual-clothes-sit.jpg</td>\n",
       "    </tr>\n",
       "    <tr>\n",
       "      <th>2</th>\n",
       "      <td>Man doing exercise sits in front of a wall</td>\n",
       "      <td>https://hips.hearstapps.com/hmg-prod.s3.amazonaws.com/images/workouts/2017/09/wall-sit-1506433841.gif</td>\n",
       "      <td>https://previews.123rf.com/images/ryanking999/ryanking9991702/ryanking999170200409/72735211-apuesto-hombre-de-pie-con-pared-de-ladrillo-asi%C3%A1tico.jpg</td>\n",
       "    </tr>\n",
       "    <tr>\n",
       "      <th>3</th>\n",
       "      <td>A man is standing on a wall.</td>\n",
       "      <td>https://previews.123rf.com/images/deagreez/deagreez2001/deagreez200104071/139177244-full-size-photo-of-gorgeous-brutal-man-stand-isolated-over-grey-wall-background-touch-hand-his-hairc.jpg</td>\n",
       "      <td>https://thumbs.dreamstime.com/z/%E5%9C%A8%E7%8E%B0-%E4%BC%81%E4%B8%9A%E5%A4%A7%E5%8E%A6%E5%89%8D%E9%9D%A2%E7%9A%84-%E4%BA%BA%E7%AB%8B%E5%9C%BA-32285543.jpg</td>\n",
       "    </tr>\n",
       "    <tr>\n",
       "      <th>4</th>\n",
       "      <td>A man is standing on a wall.</td>\n",
       "      <td>https://previews.123rf.com/images/deagreez/deagreez2001/deagreez200104071/139177244-full-size-photo-of-gorgeous-brutal-man-stand-isolated-over-grey-wall-background-touch-hand-his-hairc.jpg</td>\n",
       "      <td>https://image.shutterstock.com/z/stock-photo-1297043299.jpg</td>\n",
       "    </tr>\n",
       "  </tbody>\n",
       "</table>\n",
       "</div>"
      ],
      "text/plain": [
       "                                     sentence  \\\n",
       "0                   man stand behind the wall   \n",
       "1      The woman is sitting against the wall.   \n",
       "2  Man doing exercise sits in front of a wall   \n",
       "3                A man is standing on a wall.   \n",
       "4                A man is standing on a wall.   \n",
       "\n",
       "                                                                                                                                                                                      image_pos  \\\n",
       "0                                     https://previews.123rf.com/images/ryanking999/ryanking9991702/ryanking999170200409/72735211-apuesto-hombre-de-pie-con-pared-de-ladrillo-asi%C3%A1tico.jpg   \n",
       "1                                                                                http://www.colourbox.com/preview/5020075-522756-young-woman-sitting-on-the-wooden-floor-against-white-wall.jpg   \n",
       "2                                                                                         https://hips.hearstapps.com/hmg-prod.s3.amazonaws.com/images/workouts/2017/09/wall-sit-1506433841.gif   \n",
       "3  https://previews.123rf.com/images/deagreez/deagreez2001/deagreez200104071/139177244-full-size-photo-of-gorgeous-brutal-man-stand-isolated-over-grey-wall-background-touch-hand-his-hairc.jpg   \n",
       "4  https://previews.123rf.com/images/deagreez/deagreez2001/deagreez200104071/139177244-full-size-photo-of-gorgeous-brutal-man-stand-isolated-over-grey-wall-background-touch-hand-his-hairc.jpg   \n",
       "\n",
       "                                                                                                                                                                  image_neg  \n",
       "0  https://previews.123rf.com/images/ryanking999/ryanking9991703/ryanking999170300165/72844322-hombre-sentarse-y-sentirse-deprimido-con-pared-de-ladrillo-asi%C3%A1tico.jpg  \n",
       "1                                                https://st4.depositphotos.com/1462687/20482/i/1600/depositphotos_204822478-stock-photo-pretty-woman-casual-clothes-sit.jpg  \n",
       "2                 https://previews.123rf.com/images/ryanking999/ryanking9991702/ryanking999170200409/72735211-apuesto-hombre-de-pie-con-pared-de-ladrillo-asi%C3%A1tico.jpg  \n",
       "3               https://thumbs.dreamstime.com/z/%E5%9C%A8%E7%8E%B0-%E4%BC%81%E4%B8%9A%E5%A4%A7%E5%8E%A6%E5%89%8D%E9%9D%A2%E7%9A%84-%E4%BA%BA%E7%AB%8B%E5%9C%BA-32285543.jpg  \n",
       "4                                                                                                               https://image.shutterstock.com/z/stock-photo-1297043299.jpg  "
      ]
     },
     "execution_count": 13,
     "metadata": {},
     "output_type": "execute_result"
    }
   ],
   "source": [
    "# Read the CSV file\n",
    "file_path = os.path.join(os.getcwd(), \"database.csv\")\n",
    "df = pd.read_csv(file_path)\n",
    "\n",
    "# Extract the sentence\n",
    "sentence = df['sentence']\n",
    "image_pos = df['pos_url']\n",
    "image_neg = df['neg_url']\n",
    "\n",
    "df = pd.DataFrame({\n",
    "    'sentence': sentence,\n",
    "    'image_pos': image_pos,\n",
    "    'image_neg': image_neg\n",
    "})\n",
    "\n",
    "df.head()"
   ]
  },
  {
   "cell_type": "markdown",
   "metadata": {},
   "source": [
    "Download images functions"
   ]
  },
  {
   "cell_type": "code",
   "execution_count": 14,
   "metadata": {},
   "outputs": [],
   "source": [
    "# function to download an image\n",
    "def Download_Images(url):\n",
    "    response = requests.get(url)\n",
    "    img = Image.open(io.BytesIO(response.content))\n",
    "    return img\n",
    "\n",
    "# function to pre-process an image\n",
    "def process_image(img, n_components, base_model):\n",
    "    # Downlaod image\n",
    "    img = Download_Images(img)\n",
    "\n",
    "    image = img.resize((224, 224))\n",
    "\n",
    "    if image.mode != 'RGB':\n",
    "        # print(\"Image is greyscale\")\n",
    "        image = image.convert(\"RGB\")\n",
    "\n",
    "    # Convert the image to an array\n",
    "    img_array = np.array(image)\n",
    "    # print(\"(1) Image shape: \", img_array.shape)\n",
    "\n",
    "    # Expand dimensions to match the shape (1, 224, 224, 3)\n",
    "    img_array = np.expand_dims(img_array, axis=0)\n",
    "\n",
    "    # Preprocess the input\n",
    "    img_array = preprocess_input(img_array)\n",
    "\n",
    "    # print(f\"Raw image data: {img_array}\")\n",
    "    # print(f\"(2) Image shape: {img_array.shape}\")\n",
    "    # return(img_array)\n",
    "\n",
    "    # ========================================\n",
    "    #           Extract features \n",
    "    # ========================================\n",
    "    features = base_model.predict(img_array)\n",
    "\n",
    "    # # Define the PCA object\n",
    "    pca = PCA(n_components=n_components)\n",
    "\n",
    "    features = features.reshape((features.shape[0], -1))\n",
    "\n",
    "    # print(f\"Image shape for PCA: {features.shape}\")\n",
    "    replicated_feature_vector = np.tile(features, (n_components, 1))\n",
    "    pca.fit(replicated_feature_vector)\n",
    "    reduced_vector = pca.transform(features)\n",
    "\n",
    "    # # print(\"\\nReduced shape:\", reduced_vector.shape)\n",
    "    reshaped_tensor = reduced_vector.reshape(-1)\n",
    "\n",
    "    return reshaped_tensor\n",
    "\n"
   ]
  },
  {
   "cell_type": "markdown",
   "metadata": {},
   "source": [
    "<span style=\"background-color: red\"> ERROR: </span>\n",
    "- Images are deleted from the dataframe with error when downloading, this is done manuallly from implementation.ipynb"
   ]
  },
  {
   "cell_type": "code",
   "execution_count": 15,
   "metadata": {},
   "outputs": [
    {
     "name": "stdout",
     "output_type": "stream",
     "text": [
      "Image Positive\n",
      "Index: 5 || Failed to download https://comps.canstockphoto.at/unten-sitzen-wand-junges-schauen-stock-foto_csp18140520.jpg: HTTPSConnectionPool(host='comps.canstockphoto.at', port=443): Max retries exceeded with url: /unten-sitzen-wand-junges-schauen-stock-foto_csp18140520.jpg (Caused by NameResolutionError(\"<urllib3.connection.HTTPSConnection object at 0x160738690>: Failed to resolve 'comps.canstockphoto.at' ([Errno 8] nodename nor servname provided, or not known)\"))\n",
      "Index: 13 || Failed to download https://media.istockphoto.com/photos/man-and-woman-lie-on-a-deserted-sea-beach-and-hug-summer-vacation-picture-id1224829740: 400 Client Error: Bad Request for url: https://media.istockphoto.com/photos/man-and-woman-lie-on-a-deserted-sea-beach-and-hug-summer-vacation-picture-id1224829740\n",
      "Index: 16 || Failed to download https://cdn.knewsodisha.com/wp-content/uploads/2020/07/RUN-1.jpg: 530 Server Error:  for url: https://cdn.knewsodisha.com/wp-content/uploads/2020/07/RUN-1.jpg\n",
      "Index: 23 || Failed to download https://www.wallpaperup.com/uploads/wallpapers/2018/06/14/1268593/73ecafd97075df219fdd548c8f540a25-700.jpg: HTTPSConnectionPool(host='www.wallpaperup.com', port=443): Max retries exceeded with url: /uploads/wallpapers/2018/06/14/1268593/73ecafd97075df219fdd548c8f540a25-700.jpg (Caused by SSLError(SSLCertVerificationError(1, \"[SSL: CERTIFICATE_VERIFY_FAILED] certificate verify failed: Hostname mismatch, certificate is not valid for 'www.wallpaperup.com'. (_ssl.c:1006)\")))\n",
      "Index: 30 || Failed to download http://vtimes.com.au/up/images/2016-07/232278-3x2-940x627.jpg: 500 Server Error: Internal Server Error for url: https://vtimes.com.au/up/images/2016-07/232278-3x2-940x627.jpg\n",
      "Index: 55 || Failed to download https://media.gettyimages.com/photos/dog-and-cat-lie-on-the-grass-picture-id844521934: 400 Client Error: Bad Request for url: https://media.gettyimages.com/photos/dog-and-cat-lie-on-the-grass-picture-id844521934\n",
      "Index: 69 || Failed to download https://preview.pixlr.com/images/800wm/1182/2/1182205890.jpg: HTTPSConnectionPool(host='preview.pixlr.com', port=443): Max retries exceeded with url: /images/800wm/1182/2/1182205890.jpg (Caused by NameResolutionError(\"<urllib3.connection.HTTPSConnection object at 0x165df4090>: Failed to resolve 'preview.pixlr.com' ([Errno 8] nodename nor servname provided, or not known)\"))\n",
      "Index: 76 || Failed to download https://comps.canstockphoto.at/%C3%A4lter-mutter-m%C3%B6gen-grownup-stock-foto_csp76994845.jpg: HTTPSConnectionPool(host='comps.canstockphoto.at', port=443): Max retries exceeded with url: /%C3%A4lter-mutter-m%C3%B6gen-grownup-stock-foto_csp76994845.jpg (Caused by NameResolutionError(\"<urllib3.connection.HTTPSConnection object at 0x16610d190>: Failed to resolve 'comps.canstockphoto.at' ([Errno 8] nodename nor servname provided, or not known)\"))\n",
      "Index: 88 || Failed to download http://gliclub.com/i.php?https://s3.amazonaws.com/charitycdn/cache/resizedcrop-cde897973ea43e1d123891cc8ca4b480-840x480.jpg: cannot identify image file <_io.BytesIO object at 0x163c21760>\n",
      "Index: 104 || Failed to download https://media.istockphoto.com/photos/asian-man-travel-nature-travel-relaxbackpack-walk-on-the-meadow-in-picture-id1064066468: 400 Client Error: Bad Request for url: https://media.istockphoto.com/photos/asian-man-travel-nature-travel-relaxbackpack-walk-on-the-meadow-in-picture-id1064066468\n",
      "Index: 118 || Failed to download http://revelwallpapers.net/media/wallpapers/girl-brunette-field-grass-sit-art.jpg: ('Connection aborted.', RemoteDisconnected('Remote end closed connection without response'))\n",
      "Index: 122 || Failed to download https://www.wallpaperup.com/uploads/wallpapers/2018/06/14/1268593/73ecafd97075df219fdd548c8f540a25-700.jpg: HTTPSConnectionPool(host='www.wallpaperup.com', port=443): Max retries exceeded with url: /uploads/wallpapers/2018/06/14/1268593/73ecafd97075df219fdd548c8f540a25-700.jpg (Caused by SSLError(SSLCertVerificationError(1, \"[SSL: CERTIFICATE_VERIFY_FAILED] certificate verify failed: Hostname mismatch, certificate is not valid for 'www.wallpaperup.com'. (_ssl.c:1006)\")))\n",
      "Index: 125 || Failed to download https://www.runpacers.com/wp/wp-content/uploads/2017/03/Kids-Running-CapClassic-NavyYard-1200x600-1200x600.jpg: 404 Client Error: Not Found for url: https://runpacers.com/wp/wp-content/uploads/2017/03/Kids-Running-CapClassic-NavyYard-1200x600-1200x600.jpg\n",
      "Index: 132 || Failed to download https://res.cloudinary.com/twenty20/private_images/t_watermark-criss-cross-10/v1478751630000/photosp/73fe61d5-216d-4764-8628-a9f78477a467/stock-photo-cross-street-walking-old-japan-man-sunny-life-senior-73fe61d5-216d-4764-8628-a9f78477a467.jpg: 404 Client Error: Not Found for url: https://res.cloudinary.com/twenty20/private_images/t_watermark-criss-cross-10/v1478751630000/photosp/73fe61d5-216d-4764-8628-a9f78477a467/stock-photo-cross-street-walking-old-japan-man-sunny-life-senior-73fe61d5-216d-4764-8628-a9f78477a467.jpg\n",
      "Index: 137 || Failed to download https://images.wallpaperscraft.com/image/railway_man_walk_trees_117040_1280x1024.jpg: 404 Client Error: Not Found for url: https://images.wallpaperscraft.com/image/railway_man_walk_trees_117040_1280x1024.jpg\n",
      "Index: 146 || Failed to download https://images.wallpaperscraft.com/image/railway_man_walk_trees_117040_1280x1024.jpg: 404 Client Error: Not Found for url: https://images.wallpaperscraft.com/image/railway_man_walk_trees_117040_1280x1024.jpg\n",
      "Index: 147 || Failed to download https://comps.canstockphoto.com.br/homens-praia-passeio-banco-de-fotos_csp2166973.jpg: HTTPSConnectionPool(host='comps.canstockphoto.com.br', port=443): Max retries exceeded with url: /homens-praia-passeio-banco-de-fotos_csp2166973.jpg (Caused by NameResolutionError(\"<urllib3.connection.HTTPSConnection object at 0x165de4350>: Failed to resolve 'comps.canstockphoto.com.br' ([Errno 8] nodename nor servname provided, or not known)\"))\n",
      "Index: 153 || Failed to download https://wallsheaven.com/decorating-ideas/6885/home-design-living-room-sofa-apartament-6885-teenager-talking-on-the-cell-phone-D80266565.webp?nr=3&size=400: cannot identify image file <_io.BytesIO object at 0x1657a6ca0>\n",
      "Index: 154 || Failed to download https://media.istockphoto.com/photos/the-sad-woman-sit-near-the-man-on-the-sofa-picture-id1145066570: 400 Client Error: Bad Request for url: https://media.istockphoto.com/photos/the-sad-woman-sit-near-the-man-on-the-sofa-picture-id1145066570\n",
      "Index: 166 || Failed to download https://static.timesofisrael.com/www/uploads/2015/08/ashdod-sofia-match-640x400.png: 403 Client Error: Forbidden for url: https://static.timesofisrael.com/www/uploads/2015/08/ashdod-sofia-match-640x400.png\n",
      "Index: 181 || Failed to download https://fscomps.fotosearch.com/compc/CSP/CSP992/%E7%9B%B8%E5%BD%93-%E5%B9%B4%E8%BD%BB%E5%A5%B3%E5%AD%A9-%E5%9C%A8%E6%B5%B7%E6%BB%A9%E4%B8%8A%E8%BA%BA-%E5%9B%BE%E7%89%87__k14117854.jpg: 404 Client Error: NOT FOUND for url: https://fscomps.fotosearch.com/compc/CSP/CSP992/%E7%9B%B8%E5%BD%93-%E5%B9%B4%E8%BD%BB%E5%A5%B3%E5%AD%A9-%E5%9C%A8%E6%B5%B7%E6%BB%A9%E4%B8%8A%E8%BA%BA-%E5%9B%BE%E7%89%87__k14117854.jpg\n",
      "Indicies to remove for positive images: [5, 13, 16, 23, 30, 55, 69, 76, 88, 104, 118, 122, 125, 132, 137, 146, 147, 153, 154, 166, 181]\n",
      "\n",
      "Image Negative \n",
      "Index: 10 || Failed to download https://media.istockphoto.com/photos/woman-walk-on-the-beach-picture-id475218569: 400 Client Error: Bad Request for url: https://media.istockphoto.com/photos/woman-walk-on-the-beach-picture-id475218569\n",
      "Index: 11 || Failed to download https://comps.canstockphoto.be/branding-leugen-zijn-zee-strand-stockfotografie_csp42225708.jpg: HTTPSConnectionPool(host='comps.canstockphoto.be', port=443): Max retries exceeded with url: /branding-leugen-zijn-zee-strand-stockfotografie_csp42225708.jpg (Caused by NameResolutionError(\"<urllib3.connection.HTTPSConnection object at 0x1660dea50>: Failed to resolve 'comps.canstockphoto.be' ([Errno 8] nodename nor servname provided, or not known)\"))\n",
      "Index: 13 || Failed to download https://media.istockphoto.com/photos/woman-to-jump-at-the-beach-picture-id920870580: 400 Client Error: Bad Request for url: https://media.istockphoto.com/photos/woman-to-jump-at-the-beach-picture-id920870580\n",
      "Index: 15 || Failed to download https://www.runpacers.com/wp/wp-content/uploads/2017/03/Kids-Running-CapClassic-NavyYard-1200x600-1200x600.jpg: 404 Client Error: Not Found for url: https://runpacers.com/wp/wp-content/uploads/2017/03/Kids-Running-CapClassic-NavyYard-1200x600-1200x600.jpg\n",
      "Index: 24 || Failed to download https://previews.agefotostock.com/previewimage/medibigoff/c2ce54539a5b97f08fccab5d17054c43/h44-10317770.jpg: HTTPSConnectionPool(host='previews.agefotostock.com', port=443): Max retries exceeded with url: /previewimage/medibigoff/c2ce54539a5b97f08fccab5d17054c43/h44-10317770.jpg (Caused by SSLError(SSLError(1, '[SSL: TLSV1_UNRECOGNIZED_NAME] tlsv1 unrecognized name (_ssl.c:1006)')))\n",
      "Index: 25 || Failed to download https://res.cloudinary.com/twenty20/private_images/t_watermark-criss-cross-10/v1516832055000/photosp/d2c5a593-1236-4ca3-90fa-35581adbb60e/stock-photo-people-walking-summer-greece-girl-person-walk-alone-between-the-mountains-lagadia-vilage-d2c5a593-1236-4ca3-90fa-35581adbb60e.jpg: 404 Client Error: Not Found for url: https://res.cloudinary.com/twenty20/private_images/t_watermark-criss-cross-10/v1516832055000/photosp/d2c5a593-1236-4ca3-90fa-35581adbb60e/stock-photo-people-walking-summer-greece-girl-person-walk-alone-between-the-mountains-lagadia-vilage-d2c5a593-1236-4ca3-90fa-35581adbb60e.jpg\n",
      "Index: 32 || Failed to download https://arthurrothsteinarchive.com/i/2019/05/federal-approved-restraint-system-dog-in-back-of-truck-law-california-bed-of-a-truck-date-is-it-legal-to-ride-in-the-back-of-a-truck-with-a-camper-shell.jpg: HTTPSConnectionPool(host='arthurrothsteinarchive.com', port=443): Max retries exceeded with url: /i/2019/05/federal-approved-restraint-system-dog-in-back-of-truck-law-california-bed-of-a-truck-date-is-it-legal-to-ride-in-the-back-of-a-truck-with-a-camper-shell.jpg (Caused by NewConnectionError('<urllib3.connection.HTTPSConnection object at 0x163ebab50>: Failed to establish a new connection: [Errno 61] Connection refused'))\n",
      "Index: 42 || Failed to download https://res.cloudinary.com/twenty20/private_images/t_watermark-criss-cross-10/v1553832892000/photosp/552faf6f-f564-421e-9cfa-c59d0c568059/stock-photo-men-sea-beach-walking-ocean-boy-walk-beach-life-552faf6f-f564-421e-9cfa-c59d0c568059.jpg: 404 Client Error: Not Found for url: https://res.cloudinary.com/twenty20/private_images/t_watermark-criss-cross-10/v1553832892000/photosp/552faf6f-f564-421e-9cfa-c59d0c568059/stock-photo-men-sea-beach-walking-ocean-boy-walk-beach-life-552faf6f-f564-421e-9cfa-c59d0c568059.jpg\n",
      "Index: 44 || Failed to download http://thumbs.dreamstime.com/t/homem-de-neg%C3%B3cio-de-convite-que-senta-se-na-tabela-31717619.jpg: 404 Client Error: Not Found for url: https://thumbs.dreamstime.com/t/homem-de-neg%C3%B3cio-de-convite-que-senta-se-na-tabela-31717619.jpg\n",
      "Index: 45 || Failed to download https://media.istockphoto.com/photos/senior-man-walking-in-a-park-picture-id1134930184: 400 Client Error: Bad Request for url: https://media.istockphoto.com/photos/senior-man-walking-in-a-park-picture-id1134930184\n",
      "Index: 48 || Failed to download http://s1.favim.com/orig/16/beach-girl-jump-sea-water-Favim.com-190281.jpg: HTTPSConnectionPool(host='favim.com', port=443): Max retries exceeded with url: /pd/s1/orig/16/beach-girl-jump-sea-water-Favim.com-190281.jpg (Caused by SSLError(SSLCertVerificationError(1, '[SSL: CERTIFICATE_VERIFY_FAILED] certificate verify failed: unable to get local issuer certificate (_ssl.c:1006)')))\n",
      "Index: 55 || Failed to download https://dur-cjweb.newscyclecloud.com/storyimage/CJ/20180606/NEWS01/180609887/AR/0/AR-180609887.jpg: HTTPSConnectionPool(host='dur-cjweb.newscyclecloud.com', port=443): Max retries exceeded with url: /storyimage/CJ/20180606/NEWS01/180609887/AR/0/AR-180609887.jpg (Caused by NameResolutionError(\"<urllib3.connection.HTTPSConnection object at 0x16610e890>: Failed to resolve 'dur-cjweb.newscyclecloud.com' ([Errno 8] nodename nor servname provided, or not known)\"))\n",
      "Index: 56 || Failed to download https://media.gettyimages.com/photos/dog-and-cat-lie-on-the-grass-picture-id844521934: 400 Client Error: Bad Request for url: https://media.gettyimages.com/photos/dog-and-cat-lie-on-the-grass-picture-id844521934\n",
      "Index: 59 || Failed to download https://media.istockphoto.com/photos/horse-run-gallop-in-meadow-picture-id1202336315: 400 Client Error: Bad Request for url: https://media.istockphoto.com/photos/horse-run-gallop-in-meadow-picture-id1202336315\n",
      "Index: 64 || Failed to download https://c.stocksy.com/a/2qq400/z9/1156426.jpg: 403 Client Error: Forbidden for url: https://c.stocksy.com/a/2qq400/z9/1156426.jpg\n",
      "Index: 67 || Failed to download http://oneappsgroup.com/wp-content/uploads/2017/08/woman-running-beach.jpg: cannot identify image file <_io.BytesIO object at 0x163e5fc90>\n",
      "Index: 74 || Failed to download https://comps.canstockphoto.at/junge-schultern-sitzen-lassen-bild_csp37176271.jpg: HTTPSConnectionPool(host='comps.canstockphoto.at', port=443): Max retries exceeded with url: /junge-schultern-sitzen-lassen-bild_csp37176271.jpg (Caused by NameResolutionError(\"<urllib3.connection.HTTPSConnection object at 0x166122710>: Failed to resolve 'comps.canstockphoto.at' ([Errno 8] nodename nor servname provided, or not known)\"))\n",
      "Index: 83 || Failed to download https://wallsheaven.com/decorating-ideas/6885/home-design-living-room-sofa-apartament-6885-teenager-talking-on-the-cell-phone-D80266565.webp?nr=3&size=400: cannot identify image file <_io.BytesIO object at 0x163dbd210>\n",
      "Index: 84 || Failed to download https://comps.canstockphoto.at/bohnenkaffee-besch%C3%A4ftigt-sitzen-stock-foto_csp64769447.jpg: HTTPSConnectionPool(host='comps.canstockphoto.at', port=443): Max retries exceeded with url: /bohnenkaffee-besch%C3%A4ftigt-sitzen-stock-foto_csp64769447.jpg (Caused by NameResolutionError(\"<urllib3.connection.HTTPSConnection object at 0x16610fe10>: Failed to resolve 'comps.canstockphoto.at' ([Errno 8] nodename nor servname provided, or not known)\"))\n",
      "Index: 86 || Failed to download https://c.stocksy.com/a/IZ7300/z9/744080.jpg: 403 Client Error: Forbidden for url: https://c.stocksy.com/a/IZ7300/z9/744080.jpg\n",
      "Index: 89 || Failed to download http://www.queen-camel.co.uk/uploads/1/0/1/6/10163560/2454078_orig.jpg: 403 Client Error: Forbidden for url: http://www.queen-camel.co.uk/uploads/1/0/1/6/10163560/2454078_orig.jpg\n",
      "Index: 92 || Failed to download https://cdn.knewsodisha.com/wp-content/uploads/2020/07/RUN-1.jpg: 530 Server Error:  for url: https://cdn.knewsodisha.com/wp-content/uploads/2020/07/RUN-1.jpg\n",
      "Index: 115 || Failed to download https://media.istockphoto.com/photos/baby-and-teddy-bear-sit-togather-on-the-beach-this-immage-can-use-for-picture-id1029264600: 400 Client Error: Bad Request for url: https://media.istockphoto.com/photos/baby-and-teddy-bear-sit-togather-on-the-beach-this-immage-can-use-for-picture-id1029264600\n",
      "Index: 117 || Failed to download https://media.istockphoto.com/photos/beautiful-obedient-border-collie-dog-is-sitting-proudly-alone-in-a-picture-id1207935755: 400 Client Error: Bad Request for url: https://media.istockphoto.com/photos/beautiful-obedient-border-collie-dog-is-sitting-proudly-alone-in-a-picture-id1207935755\n",
      "Index: 118 || Failed to download https://media.istockphoto.com/photos/pretty-and-beautiful-girl-sit-on-sofa-and-use-laptop-on-table-for-picture-id1165740835: 400 Client Error: Bad Request for url: https://media.istockphoto.com/photos/pretty-and-beautiful-girl-sit-on-sofa-and-use-laptop-on-table-for-picture-id1165740835\n",
      "Index: 126 || Failed to download https://comps.canstockphoto.co.il/%D7%9B%D7%9C%D7%91-%D7%9E%D7%93%D7%A9%D7%90%D7%94-%D7%99%D7%9C%D7%93%D7%94-%D7%A6%D7%99%D7%9C%D7%95%D7%9D-%D7%9E%D7%A0%D7%99%D7%95%D7%AA_csp73472502.jpg: HTTPSConnectionPool(host='comps.canstockphoto.co.il', port=443): Max retries exceeded with url: /%D7%9B%D7%9C%D7%91-%D7%9E%D7%93%D7%A9%D7%90%D7%94-%D7%99%D7%9C%D7%93%D7%94-%D7%A6%D7%99%D7%9C%D7%95%D7%9D-%D7%9E%D7%A0%D7%99%D7%95%D7%AA_csp73472502.jpg (Caused by NameResolutionError(\"<urllib3.connection.HTTPSConnection object at 0x160738490>: Failed to resolve 'comps.canstockphoto.co.il' ([Errno 8] nodename nor servname provided, or not known)\"))\n",
      "Index: 131 || Failed to download https://thumbs.dreamstime.com/b/%CF%83%CF%85%CE%BD%CE%B5-%CF%81%CE%AF%CE%B1%CF%83%CE%B7-%CE%B5%CF%80%CE%B9%CF%87%CE%B5%CE%B9%CF%81%CE%B7%CF%83%CE%B9%CE%B1%CE%BA%CF%8E%CE%BD-%CE%B1%CF%84%CF%8C%CE%BC%CF%89%CE%BD-%CF%80%CF%81%CF%8C%CF%83%CE%BA-%CE%B7%CF%83%CE%B7%CF%82-%CF%83%CF%84%CE%B7%CE%BD-%CE%BA%CE%B1%CF%81%CE%AD%CE%BA-%CE%B1-31717627.jpg: 404 Client Error: Not Found for url: https://thumbs.dreamstime.com/b/%CF%83%CF%85%CE%BD%CE%B5-%CF%81%CE%AF%CE%B1%CF%83%CE%B7-%CE%B5%CF%80%CE%B9%CF%87%CE%B5%CE%B9%CF%81%CE%B7%CF%83%CE%B9%CE%B1%CE%BA%CF%8E%CE%BD-%CE%B1%CF%84%CF%8C%CE%BC%CF%89%CE%BD-%CF%80%CF%81%CF%8C%CF%83%CE%BA-%CE%B7%CF%83%CE%B7%CF%82-%CF%83%CF%84%CE%B7%CE%BD-%CE%BA%CE%B1%CF%81%CE%AD%CE%BA-%CE%B1-31717627.jpg\n",
      "Index: 142 || Failed to download https://c.stocksy.com/a/ibB400/z9/997934.jpg: 403 Client Error: Forbidden for url: https://c.stocksy.com/a/ibB400/z9/997934.jpg\n",
      "Index: 143 || Failed to download https://www.bolde.com/wp-content/uploads/2019/05/iStock-1148293308.jpg: 403 Client Error: Forbidden for url: https://www.bolde.com/wp-content/uploads/2019/05/iStock-1148293308.jpg\n",
      "Index: 151 || Failed to download https://images.ladbible.com/resize?type=jpeg&url=http://beta.ems.ladbiblegroup.com/s3/content/811b52c35f44ac1ed7cae5b8c82f4c8e.png&quality=70&height=455&aspectratio=16:9&extend=white: 406 Client Error: Not Acceptable for url: https://images.ladbible.com/resize?type=jpeg&url=http://beta.ems.ladbiblegroup.com/s3/content/811b52c35f44ac1ed7cae5b8c82f4c8e.png&quality=70&height=455&aspectratio=16:9&extend=white\n",
      "Index: 158 || Failed to download https://images.mediabakery.com/RAD/1LX/RAD0113898-preview-logo-watermarked.jpg: HTTPSConnectionPool(host='images.mediabakery.com', port=443): Max retries exceeded with url: /RAD/1LX/RAD0113898-preview-logo-watermarked.jpg (Caused by NameResolutionError(\"<urllib3.connection.HTTPSConnection object at 0x166122c50>: Failed to resolve 'images.mediabakery.com' ([Errno 8] nodename nor servname provided, or not known)\"))\n",
      "Index: 166 || Failed to download https://res.cloudinary.com/twenty20/private_images/t_watermark-criss-cross-10/v1543825343000/photosp/3f6f8a78-5cc9-47ec-be65-37cbc6e16621/stock-photo-field-grass-sport-meadow-child-freedom-boy-run-kid-3f6f8a78-5cc9-47ec-be65-37cbc6e16621.jpg: 401 Client Error:  for url: https://res.cloudinary.com/twenty20/private_images/t_watermark-criss-cross-10/v1543825343000/photosp/3f6f8a78-5cc9-47ec-be65-37cbc6e16621/stock-photo-field-grass-sport-meadow-child-freedom-boy-run-kid-3f6f8a78-5cc9-47ec-be65-37cbc6e16621.jpg\n",
      "Index: 177 || Failed to download https://comps.canstockphoto.com/excited-millennial-girl-shocked-by-news-picture_csp76991719.jpg: HTTPSConnectionPool(host='comps.canstockphoto.com', port=443): Max retries exceeded with url: /excited-millennial-girl-shocked-by-news-picture_csp76991719.jpg (Caused by NameResolutionError(\"<urllib3.connection.HTTPSConnection object at 0x165de43d0>: Failed to resolve 'comps.canstockphoto.com' ([Errno 8] nodename nor servname provided, or not known)\"))\n",
      "Index: 182 || Failed to download https://comps.canstockphoto.com.br/corrida-cal%C3%A7ada-in%C3%ADcio-homem-banco-de-imagem_csp23128566.jpg: HTTPSConnectionPool(host='comps.canstockphoto.com.br', port=443): Max retries exceeded with url: /corrida-cal%C3%A7ada-in%C3%ADcio-homem-banco-de-imagem_csp23128566.jpg (Caused by NameResolutionError(\"<urllib3.connection.HTTPSConnection object at 0x1660bea10>: Failed to resolve 'comps.canstockphoto.com.br' ([Errno 8] nodename nor servname provided, or not known)\"))\n",
      "Index: 188 || Failed to download https://images.wallpaperscraft.com/image/fox_cubs_grass_set_sit_56426_1350x2400.jpg: 404 Client Error: Not Found for url: https://images.wallpaperscraft.com/image/fox_cubs_grass_set_sit_56426_1350x2400.jpg\n",
      "Indicies for negative: [10, 11, 13, 15, 24, 25, 32, 42, 44, 45, 48, 55, 56, 59, 64, 67, 74, 83, 84, 86, 89, 92, 115, 117, 118, 126, 131, 142, 143, 151, 158, 166, 177, 182, 188]\n",
      "Done: All images downloaded.\n"
     ]
    }
   ],
   "source": [
    "# Read the CSV file\n",
    "# completed above\n",
    "\n",
    "pos_indexToRemove = []\n",
    "neg_indexToRemove = []\n",
    "\n",
    "# Function to download an image\n",
    "def download_image(index, url, indexToRemove):\n",
    "    try:\n",
    "        response = requests.get(url)\n",
    "        response.raise_for_status()  # Check if the request was successful\n",
    "        img = Image.open(io.BytesIO(response.content))\n",
    "        # img.save(save_path)\n",
    "        # print(f\"Downloaded and saved {url} to {save_path}\")\n",
    "    except requests.exceptions.Timeout:\n",
    "        print(f\"Index: {index} || Timeout: {url} took too long to download.\")\n",
    "        indexToRemove.append(index)\n",
    "    except Exception as e:\n",
    "        print(f\"Index: {index} || Failed to download {url}: {e}\" )\n",
    "        indexToRemove.append(index)\n",
    "\n",
    "# Iterate over the URLs in the DataFrame\n",
    "print(\"Image Positive\")\n",
    "for index, row in df.iterrows():\n",
    "    url_pos = row['image_pos']  # Replace 'image_url' with the column name in your CSV\n",
    "    download_image(index, url_pos, pos_indexToRemove)\n",
    "print(f\"Indicies to remove for positive images: {pos_indexToRemove}\")\n",
    "\n",
    "print(\"\\nImage Negative \")\n",
    "for index, row in df.iterrows():\n",
    "    url_neg = row['image_neg']  # Replace 'image_url' with the column name in your CSV\n",
    "    download_image(index, url_neg, neg_indexToRemove)\n",
    "print(f\"Indicies for negative: {neg_indexToRemove}\")\n",
    "\n",
    "print(\"Done: All images downloaded.\")"
   ]
  },
  {
   "cell_type": "markdown",
   "metadata": {},
   "source": [
    "Indicied of images that failed to download for positive and negative"
   ]
  },
  {
   "cell_type": "code",
   "execution_count": 18,
   "metadata": {},
   "outputs": [
    {
     "name": "stdout",
     "output_type": "stream",
     "text": [
      " 21 Positive indicies failed to download: [5, 13, 16, 23, 30, 55, 69, 76, 88, 104, 118, 122, 125, 132, 137, 146, 147, 153, 154, 166, 181]\n",
      " 35 Negative indicies failed to download: [10, 11, 13, 15, 24, 25, 32, 42, 44, 45, 48, 55, 56, 59, 64, 67, 74, 83, 84, 86, 89, 92, 115, 117, 118, 126, 131, 142, 143, 151, 158, 166, 177, 182, 188]\n"
     ]
    }
   ],
   "source": [
    "print(f\" {len(pos_indexToRemove)} Positive indicies failed to download: {pos_indexToRemove}\")\n",
    "print(f\" {len(neg_indexToRemove)} Negative indicies failed to download: {neg_indexToRemove}\")"
   ]
  },
  {
   "cell_type": "markdown",
   "metadata": {},
   "source": [
    "Drop images that are unable to download for positive and negative"
   ]
  },
  {
   "cell_type": "code",
   "execution_count": 19,
   "metadata": {},
   "outputs": [
    {
     "name": "stdout",
     "output_type": "stream",
     "text": [
      "[5, 10, 11, 13, 15, 16, 23, 24, 25, 30, 32, 42, 44, 45, 48, 55, 56, 59, 64, 67, 69, 74, 76, 83, 84, 86, 88, 89, 92, 104, 115, 117, 118, 122, 125, 126, 131, 132, 137, 142, 143, 146, 147, 151, 153, 154, 158, 166, 177, 181, 182, 188]\n",
      "Length of original dataframe =  191\n",
      "Length of cleaned dataframe =  139\n"
     ]
    }
   ],
   "source": [
    "clean_df = df.copy()\n",
    "merged_toRemove = list(set(neg_indexToRemove) | set(pos_indexToRemove))\n",
    "merged_toRemove.sort()\n",
    "print(merged_toRemove)\n",
    "\n",
    "for index, row in clean_df.iterrows():\n",
    "    if index in merged_toRemove:\n",
    "        # print(\"Removing index: \", index)\n",
    "        clean_df = clean_df.drop(index = index)\n",
    "\n",
    "print(f\"Length of original dataframe = \", len(df))\n",
    "print(f\"Length of cleaned dataframe = \", len(clean_df))"
   ]
  },
  {
   "cell_type": "code",
   "execution_count": 20,
   "metadata": {},
   "outputs": [
    {
     "data": {
      "text/html": [
       "<div>\n",
       "<style scoped>\n",
       "    .dataframe tbody tr th:only-of-type {\n",
       "        vertical-align: middle;\n",
       "    }\n",
       "\n",
       "    .dataframe tbody tr th {\n",
       "        vertical-align: top;\n",
       "    }\n",
       "\n",
       "    .dataframe thead th {\n",
       "        text-align: right;\n",
       "    }\n",
       "</style>\n",
       "<table border=\"1\" class=\"dataframe\">\n",
       "  <thead>\n",
       "    <tr style=\"text-align: right;\">\n",
       "      <th></th>\n",
       "      <th>sentence</th>\n",
       "      <th>image_pos</th>\n",
       "      <th>image_neg</th>\n",
       "    </tr>\n",
       "  </thead>\n",
       "  <tbody>\n",
       "    <tr>\n",
       "      <th>0</th>\n",
       "      <td>man stand behind the wall</td>\n",
       "      <td>https://previews.123rf.com/images/ryanking999/ryanking9991702/ryanking999170200409/72735211-apuesto-hombre-de-pie-con-pared-de-ladrillo-asi%C3%A1tico.jpg</td>\n",
       "      <td>https://previews.123rf.com/images/ryanking999/ryanking9991703/ryanking999170300165/72844322-hombre-sentarse-y-sentirse-deprimido-con-pared-de-ladrillo-asi%C3%A1tico.jpg</td>\n",
       "    </tr>\n",
       "    <tr>\n",
       "      <th>1</th>\n",
       "      <td>The woman is sitting against the wall.</td>\n",
       "      <td>http://www.colourbox.com/preview/5020075-522756-young-woman-sitting-on-the-wooden-floor-against-white-wall.jpg</td>\n",
       "      <td>https://st4.depositphotos.com/1462687/20482/i/1600/depositphotos_204822478-stock-photo-pretty-woman-casual-clothes-sit.jpg</td>\n",
       "    </tr>\n",
       "    <tr>\n",
       "      <th>2</th>\n",
       "      <td>Man doing exercise sits in front of a wall</td>\n",
       "      <td>https://hips.hearstapps.com/hmg-prod.s3.amazonaws.com/images/workouts/2017/09/wall-sit-1506433841.gif</td>\n",
       "      <td>https://previews.123rf.com/images/ryanking999/ryanking9991702/ryanking999170200409/72735211-apuesto-hombre-de-pie-con-pared-de-ladrillo-asi%C3%A1tico.jpg</td>\n",
       "    </tr>\n",
       "    <tr>\n",
       "      <th>3</th>\n",
       "      <td>A man is standing on a wall.</td>\n",
       "      <td>https://previews.123rf.com/images/deagreez/deagreez2001/deagreez200104071/139177244-full-size-photo-of-gorgeous-brutal-man-stand-isolated-over-grey-wall-background-touch-hand-his-hairc.jpg</td>\n",
       "      <td>https://thumbs.dreamstime.com/z/%E5%9C%A8%E7%8E%B0-%E4%BC%81%E4%B8%9A%E5%A4%A7%E5%8E%A6%E5%89%8D%E9%9D%A2%E7%9A%84-%E4%BA%BA%E7%AB%8B%E5%9C%BA-32285543.jpg</td>\n",
       "    </tr>\n",
       "    <tr>\n",
       "      <th>4</th>\n",
       "      <td>A man is standing on a wall.</td>\n",
       "      <td>https://previews.123rf.com/images/deagreez/deagreez2001/deagreez200104071/139177244-full-size-photo-of-gorgeous-brutal-man-stand-isolated-over-grey-wall-background-touch-hand-his-hairc.jpg</td>\n",
       "      <td>https://image.shutterstock.com/z/stock-photo-1297043299.jpg</td>\n",
       "    </tr>\n",
       "    <tr>\n",
       "      <th>6</th>\n",
       "      <td>a person sitting on the wall</td>\n",
       "      <td>https://c7.uihere.com/files/281/692/909/woman-female-sit-sitting.jpg</td>\n",
       "      <td>https://c0.anyrgb.com/images/795/432/human-person-kid-hide-and-seek-climbing-caucasian-child-denim-playing-sit.jpg</td>\n",
       "    </tr>\n",
       "    <tr>\n",
       "      <th>7</th>\n",
       "      <td>A person sitting against a wall.</td>\n",
       "      <td>https://previews.123rf.com/images/ryanking999/ryanking9991703/ryanking999170300165/72844322-hombre-sentarse-y-sentirse-deprimido-con-pared-de-ladrillo-asi%C3%A1tico.jpg</td>\n",
       "      <td>https://static1.bigstockphoto.com/1/3/2/large1500/231684076.jpg</td>\n",
       "    </tr>\n",
       "    <tr>\n",
       "      <th>8</th>\n",
       "      <td>girl standing against wall</td>\n",
       "      <td>https://image.shutterstock.com/z/stock-photo-1297043299.jpg</td>\n",
       "      <td>https://thumbs.dreamstime.com/z/%E5%B0%8F%E4%BA%9A%E6%B4%B2%E5%A5%B3%E5%AD%A9%E7%AB%99%E5%9C%A8%E6%9C%A8%E6%9D%90%E4%B8%8A%EF%BC%8C%E5%9C%A8%E5%85%AC%E5%9B%AD%E6%88%96%E8%8A%B1%E5%9B%AD%E9%87%8C%E7%8E%A9%E8%80%8D%EF%BC%8C%E7%9C%8B%E4%B8%8A%E5%8E%BB%E5%BE%88%E6%9C%89%E8%B6%A3-173974957.jpg</td>\n",
       "    </tr>\n",
       "    <tr>\n",
       "      <th>9</th>\n",
       "      <td>A woman sits in a field.</td>\n",
       "      <td>https://previews.123rf.com/images/studio-54/studio-541809/studio-54180900019/108577037-full-length-body-beautiful-girl-sit-on-soccer-green-grass-field-sporty-sexy-woman-with-football-ball.jpg</td>\n",
       "      <td>https://st3.depositphotos.com/4675069/15498/i/1600/depositphotos_154989568-stock-photo-gorgeous-man-and-woman-stand.jpg</td>\n",
       "    </tr>\n",
       "    <tr>\n",
       "      <th>12</th>\n",
       "      <td>A person runs on the street</td>\n",
       "      <td>https://i.pinimg.com/originals/27/d0/3c/27d03c3862afb70246d0f6b1534d55cb.jpg</td>\n",
       "      <td>https://c8.alamy.com/comp/2BW2GR8/children-and-toddlers-played-in-the-street-even-a-child-of-this-age-could-be-allowed-to-play-outside-wander-off-and-come-back-with-the-care-of-the-policeman-on-the-beat-2BW2GR8.jpg</td>\n",
       "    </tr>\n",
       "  </tbody>\n",
       "</table>\n",
       "</div>"
      ],
      "text/plain": [
       "                                      sentence  \\\n",
       "0                    man stand behind the wall   \n",
       "1       The woman is sitting against the wall.   \n",
       "2   Man doing exercise sits in front of a wall   \n",
       "3                 A man is standing on a wall.   \n",
       "4                 A man is standing on a wall.   \n",
       "6                 a person sitting on the wall   \n",
       "7             A person sitting against a wall.   \n",
       "8                   girl standing against wall   \n",
       "9                     A woman sits in a field.   \n",
       "12                 A person runs on the street   \n",
       "\n",
       "                                                                                                                                                                                          image_pos  \\\n",
       "0                                         https://previews.123rf.com/images/ryanking999/ryanking9991702/ryanking999170200409/72735211-apuesto-hombre-de-pie-con-pared-de-ladrillo-asi%C3%A1tico.jpg   \n",
       "1                                                                                    http://www.colourbox.com/preview/5020075-522756-young-woman-sitting-on-the-wooden-floor-against-white-wall.jpg   \n",
       "2                                                                                             https://hips.hearstapps.com/hmg-prod.s3.amazonaws.com/images/workouts/2017/09/wall-sit-1506433841.gif   \n",
       "3      https://previews.123rf.com/images/deagreez/deagreez2001/deagreez200104071/139177244-full-size-photo-of-gorgeous-brutal-man-stand-isolated-over-grey-wall-background-touch-hand-his-hairc.jpg   \n",
       "4      https://previews.123rf.com/images/deagreez/deagreez2001/deagreez200104071/139177244-full-size-photo-of-gorgeous-brutal-man-stand-isolated-over-grey-wall-background-touch-hand-his-hairc.jpg   \n",
       "6                                                                                                                              https://c7.uihere.com/files/281/692/909/woman-female-sit-sitting.jpg   \n",
       "7                          https://previews.123rf.com/images/ryanking999/ryanking9991703/ryanking999170300165/72844322-hombre-sentarse-y-sentirse-deprimido-con-pared-de-ladrillo-asi%C3%A1tico.jpg   \n",
       "8                                                                                                                                       https://image.shutterstock.com/z/stock-photo-1297043299.jpg   \n",
       "9   https://previews.123rf.com/images/studio-54/studio-541809/studio-54180900019/108577037-full-length-body-beautiful-girl-sit-on-soccer-green-grass-field-sporty-sexy-woman-with-football-ball.jpg   \n",
       "12                                                                                                                     https://i.pinimg.com/originals/27/d0/3c/27d03c3862afb70246d0f6b1534d55cb.jpg   \n",
       "\n",
       "                                                                                                                                                                                                                                                                                            image_neg  \n",
       "0                                                                                                                            https://previews.123rf.com/images/ryanking999/ryanking9991703/ryanking999170300165/72844322-hombre-sentarse-y-sentirse-deprimido-con-pared-de-ladrillo-asi%C3%A1tico.jpg  \n",
       "1                                                                                                                                                                          https://st4.depositphotos.com/1462687/20482/i/1600/depositphotos_204822478-stock-photo-pretty-woman-casual-clothes-sit.jpg  \n",
       "2                                                                                                                                           https://previews.123rf.com/images/ryanking999/ryanking9991702/ryanking999170200409/72735211-apuesto-hombre-de-pie-con-pared-de-ladrillo-asi%C3%A1tico.jpg  \n",
       "3                                                                                                                                         https://thumbs.dreamstime.com/z/%E5%9C%A8%E7%8E%B0-%E4%BC%81%E4%B8%9A%E5%A4%A7%E5%8E%A6%E5%89%8D%E9%9D%A2%E7%9A%84-%E4%BA%BA%E7%AB%8B%E5%9C%BA-32285543.jpg  \n",
       "4                                                                                                                                                                                                                                         https://image.shutterstock.com/z/stock-photo-1297043299.jpg  \n",
       "6                                                                                                                                                                                  https://c0.anyrgb.com/images/795/432/human-person-kid-hide-and-seek-climbing-caucasian-child-denim-playing-sit.jpg  \n",
       "7                                                                                                                                                                                                                                     https://static1.bigstockphoto.com/1/3/2/large1500/231684076.jpg  \n",
       "8   https://thumbs.dreamstime.com/z/%E5%B0%8F%E4%BA%9A%E6%B4%B2%E5%A5%B3%E5%AD%A9%E7%AB%99%E5%9C%A8%E6%9C%A8%E6%9D%90%E4%B8%8A%EF%BC%8C%E5%9C%A8%E5%85%AC%E5%9B%AD%E6%88%96%E8%8A%B1%E5%9B%AD%E9%87%8C%E7%8E%A9%E8%80%8D%EF%BC%8C%E7%9C%8B%E4%B8%8A%E5%8E%BB%E5%BE%88%E6%9C%89%E8%B6%A3-173974957.jpg  \n",
       "9                                                                                                                                                                             https://st3.depositphotos.com/4675069/15498/i/1600/depositphotos_154989568-stock-photo-gorgeous-man-and-woman-stand.jpg  \n",
       "12                                                                             https://c8.alamy.com/comp/2BW2GR8/children-and-toddlers-played-in-the-street-even-a-child-of-this-age-could-be-allowed-to-play-outside-wander-off-and-come-back-with-the-care-of-the-policeman-on-the-beat-2BW2GR8.jpg  "
      ]
     },
     "execution_count": 20,
     "metadata": {},
     "output_type": "execute_result"
    }
   ],
   "source": [
    "clean_df.head(10)"
   ]
  },
  {
   "cell_type": "markdown",
   "metadata": {},
   "source": [
    "Download images officialy "
   ]
  },
  {
   "cell_type": "code",
   "execution_count": null,
   "metadata": {},
   "outputs": [],
   "source": [
    "print(\"Download images officially\")\n",
    "\n",
    "model = ResNet50(weights='imagenet', include_top=False)\n",
    "dim_reduction = 16\n",
    "\n",
    "# Iterate through each row in the DataFrame\n",
    "for index, row in clean_df.iterrows():\n",
    "    print(\"\\nIndex : \", index)\n",
    "\n",
    "    print(\" +ve\")\n",
    "    row[\"image_pos\"] = process_image(row[\"image_pos\"], dim_reduction, model)\n",
    "\n",
    "    print(\" -ve\")\n",
    "    row[\"image_neg\"] = process_image(row[\"image_neg\"], dim_reduction, model)\n",
    "\n",
    "print(\"\\nDone: positive and ngeative images downloaded successfully\")"
   ]
  },
  {
   "cell_type": "markdown",
   "metadata": {},
   "source": [
    "show head of the clean_df"
   ]
  },
  {
   "cell_type": "code",
   "execution_count": null,
   "metadata": {},
   "outputs": [],
   "source": [
    "make_list = clean_df['image_pos'].apply(lambda x: x.tolist()).tolist()\n",
    "clean_df['sentence'] = clean_df['sentence'].astype(str)\n",
    "\n",
    "pd.set_option('display.max_colwidth', None)  # or set it to a specific number of characters\n",
    "clean_df.head()"
   ]
  },
  {
   "cell_type": "code",
   "execution_count": null,
   "metadata": {},
   "outputs": [],
   "source": [
    "clean_df['label_image1'] = 0\n",
    "clean_df['label_image2'] = 1\n",
    "clean_df.head()"
   ]
  },
  {
   "cell_type": "markdown",
   "metadata": {},
   "source": [
    "#### Quantum Circuit "
   ]
  },
  {
   "cell_type": "markdown",
   "metadata": {},
   "source": [
    "Sentence DisCoCat\n",
    "\n",
    "- Added a prepositional phrase with 1 qubits\n",
    "- this result in some output of n not sentence why?"
   ]
  },
  {
   "cell_type": "code",
   "execution_count": null,
   "metadata": {},
   "outputs": [],
   "source": [
    "from lambeq import BobcatParser, AtomicType, Sim14Ansatz, RemoveCupsRewriter\n",
    "\n",
    "remove_cups = RemoveCupsRewriter()\n",
    "\n",
    "# Parse the sentence and convert it into a string diagram\n",
    "sentences = clean_df[\"sentence\"]\n",
    "\n",
    "# # Use BobbcatParser\n",
    "parser = BobcatParser(verbose='suppress')\n",
    "raw_sentence_diagrams = [parser.sentence2diagram(sentence) for sentence in sentences]\n",
    "\n",
    "ansatz_sentence = Sim14Ansatz({AtomicType.NOUN: 1, AtomicType.SENTENCE: 1, AtomicType.PREPOSITIONAL_PHRASE: 1},n_layers=1)\n",
    "\n",
    "# print('↓ sample sentence diagram with cups')\n",
    "# raw_sentence_diagrams[1].draw(figsize=(14, 3), fontsize=12)\n",
    "\n",
    "train_diagrams_sentence = [remove_cups(sentence_diagram) for sentence_diagram in raw_sentence_diagrams]\n",
    "train_circuits_sentence = [ansatz_sentence(diagram) for diagram in train_diagrams_sentence]\n",
    "# print('↓ sample sentence diagram without cups')\n",
    "# train_diagrams_sentence[1].draw()"
   ]
  },
  {
   "cell_type": "code",
   "execution_count": null,
   "metadata": {},
   "outputs": [],
   "source": [
    "print('↓ sample sentence diagram with cups')\n",
    "raw_sentence_diagrams[5].draw(figsize=(14, 3), fontsize=12)\n",
    "\n",
    "print('↓ sample sentence diagram without cups')\n",
    "train_diagrams_sentence[5].draw()"
   ]
  },
  {
   "cell_type": "code",
   "execution_count": null,
   "metadata": {},
   "outputs": [],
   "source": [
    "print('↓ sample sentence circuit')\n",
    "train_circuits_sentence[10].draw(figsize=(30, 20), fontsize=12)"
   ]
  },
  {
   "cell_type": "markdown",
   "metadata": {},
   "source": [
    "Images "
   ]
  },
  {
   "cell_type": "code",
   "execution_count": null,
   "metadata": {},
   "outputs": [],
   "source": [
    "# Create a new image Ty\n",
    "image_type = Ty(\"image\")\n",
    "image_box = Box(name = \"IMAGE\", dom = Ty(), cod= image_type)\n",
    "image_box.draw(figsize=(14, 3), fontsize=12)\n",
    "\n",
    "# Create template Ansatz\n",
    "ansatz = Sim14Ansatz({image_type: 4}, n_layers=1)\n",
    "image_circ = ansatz(image_box)\n",
    "print('↓ template image circuit')\n",
    "image_circ.draw(figsize=(20, 10), fontsize=12)\n",
    "\n",
    "# Add data into image circuit POSITIVE\n",
    "images_pos = clean_df[\"image_pos\"]\n",
    "train_circuits_imagePos = [image_circ.lambdify(*list(image_circ.free_symbols))(*feature_vec) for feature_vec in images_pos]\n",
    "print(\"circuit for positive image: complete\")\n",
    "# train_circuits_imagePos[9].draw(figsize=(20, 10), fontsize=12)\n",
    "\n",
    "# Add data into image circuit NEGATIVE\n",
    "images_neg = clean_df[\"image_neg\"]\n",
    "train_circuits_imageNeg = [image_circ.lambdify(*list(image_circ.free_symbols))(*feature_vec) for feature_vec in images_neg]\n",
    "print(\"circuit for negative image: complete\")\n",
    "# train_circuits_imageNeg[9].draw(figsize=(20, 10), fontsize=12)\n",
    "\n"
   ]
  },
  {
   "cell_type": "code",
   "execution_count": null,
   "metadata": {},
   "outputs": [],
   "source": [
    "train_circuits_imagePos[1].draw(figsize=(20, 10), fontsize=12)\n",
    "train_circuits_imageNeg[1].draw(figsize=(20, 10), fontsize=12)"
   ]
  },
  {
   "cell_type": "markdown",
   "metadata": {},
   "source": [
    "merge sentence @ image"
   ]
  },
  {
   "cell_type": "code",
   "execution_count": null,
   "metadata": {},
   "outputs": [],
   "source": [
    "# Create new Type\n",
    "image_type = Ty(\"image\")\n",
    "output_type = Ty(\"output\")\n",
    "comparison_box = Box(\"COMPARISON\", AtomicType.SENTENCE @ image_type @ image_type, output_type)\n",
    "\n",
    "# diagrams = [(sentence_diagram @ image_type @ image_type) >> comparison_box for sentence_diagram in train_diagrams_sentence]\n",
    "# diagram = raw_sentence_diagrams[5] @ image_type @ image_type >> comparison_box\n",
    "\n",
    "# Draws diagram with comparison box (0,1) - Sentence digarm and comparison box is in grammar form\n",
    "diagrams = []\n",
    "print(\"Note: diagrams that cause an error are not added to the list\")\n",
    "print(\"=======================\")\n",
    "for num in range(len(clean_df)):\n",
    "    try:\n",
    "        temp = train_diagrams_sentence[num] @ image_type @ image_type >> comparison_box\n",
    "        diagrams.append(temp)\n",
    "    except Exception as e:\n",
    "        print(f\"Error at index {num}: {e}\")\n",
    "print(\"=======================\")\n",
    "\n",
    "print(\"diagrams complete\")\n",
    "\n",
    "# diagrams = [(sentence_diagram @ image_type @ image_type) >> comparison_box for sentence_diagram in train_diagrams_sentence]\n",
    "# print('↓ template merge diagram : (sentence, image1, image2)')\n",
    "# diagrams[0].draw(figsize=(20, 10), fontsize=12)\n"
   ]
  },
  {
   "cell_type": "code",
   "execution_count": null,
   "metadata": {},
   "outputs": [],
   "source": [
    "# # Ansatz & Circuit\n",
    "ansatz = Sim14Ansatz({AtomicType.NOUN: 1, AtomicType.SENTENCE: 1, AtomicType.PREPOSITIONAL_PHRASE: 1, image_type : 4, output_type : 1},  n_layers=1)\n",
    "temp_circuit = [ansatz(diagram) for diagram in diagrams]\n",
    "print(\"ansatz complete\")"
   ]
  },
  {
   "cell_type": "code",
   "execution_count": null,
   "metadata": {},
   "outputs": [],
   "source": [
    "print(\"template circuit : (sentence, image_type , image_type)\")\n",
    "temp_circuit[0].draw(figsize=(60, 40), fontsize=18, draw_type_labels = False )"
   ]
  },
  {
   "cell_type": "markdown",
   "metadata": {},
   "source": [
    "add image data"
   ]
  },
  {
   "cell_type": "code",
   "execution_count": null,
   "metadata": {},
   "outputs": [],
   "source": [
    "image_1 = train_circuits_imagePos\n",
    "image_2 = train_circuits_imageNeg\n",
    "\n",
    "print(f\"Length of circuits =  {len(temp_circuit)}\")\n",
    "\n",
    "# final_circuit = image_1 @ image_2 >> temp_circuit\n",
    "\n",
    "final_circuit = [(image_1[index] @ image_2[index] >> temp_circuit[index]) for index in range(len(temp_circuit))]"
   ]
  },
  {
   "cell_type": "code",
   "execution_count": null,
   "metadata": {},
   "outputs": [],
   "source": [
    "final_circuit[2].draw(figsize=(30, 15), fontsize=7, draw_type_labels = False )"
   ]
  }
 ],
 "metadata": {
  "kernelspec": {
   "display_name": "Python (myenv)",
   "language": "python",
   "name": "myenv"
  },
  "language_info": {
   "codemirror_mode": {
    "name": "ipython",
    "version": 3
   },
   "file_extension": ".py",
   "mimetype": "text/x-python",
   "name": "python",
   "nbconvert_exporter": "python",
   "pygments_lexer": "ipython3",
   "version": "3.11.8"
  }
 },
 "nbformat": 4,
 "nbformat_minor": 2
}
